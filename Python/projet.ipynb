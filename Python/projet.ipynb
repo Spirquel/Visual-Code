{
 "cells": [
  {
   "cell_type": "code",
   "execution_count": 60,
   "id": "05873c3c",
   "metadata": {},
   "outputs": [],
   "source": [
    "import pandas as pd\n",
    "import matplotlib.pyplot as plt #graphique\n",
    "import json\n",
    "import os"
   ]
  },
  {
   "cell_type": "markdown",
   "id": "330db314",
   "metadata": {},
   "source": [
    "## Lecture du csv"
   ]
  },
  {
   "cell_type": "code",
   "execution_count": 61,
   "id": "c65c6e7e",
   "metadata": {},
   "outputs": [],
   "source": [
    "file_path = '/media/tessier/FORMATE/ph-db.csv'\n",
    "separator = ';'\n",
    "data = pd.read_csv(file_path, delimiter=';', encoding='utf-8')\n",
    "data['date'] = pd.to_datetime(data['date'], format='%d/%m/%Y')"
   ]
  },
  {
   "cell_type": "markdown",
   "id": "247b52d6",
   "metadata": {},
   "source": [
    "## Convertion du temps"
   ]
  },
  {
   "cell_type": "code",
   "execution_count": 62,
   "id": "d5a35a3a",
   "metadata": {},
   "outputs": [],
   "source": [
    "def convert_times(seconds):\n",
    "    if seconds < 60:\n",
    "        return f\"{seconds} secondes\"\n",
    "    elif seconds < 3600:\n",
    "        minutes = seconds / 60\n",
    "        return f\"{minutes:.2f} minutes\"\n",
    "    else:\n",
    "        hours = seconds / 3600\n",
    "        return f\"{hours:.2f} heures\""
   ]
  },
  {
   "cell_type": "markdown",
   "id": "b1780a30",
   "metadata": {},
   "source": [
    "## Graphique Top et Bottom"
   ]
  },
  {
   "cell_type": "code",
   "execution_count": 63,
   "id": "c5aaf6e4",
   "metadata": {},
   "outputs": [],
   "source": [
    "def graph_top_bottom(_video_name, _value, _x_name, _metric, _num_top, _top_or_bottom):\n",
    "    plt.figure(figsize=(10, 5), facecolor='#000000')  # taille graph 10 pouces et 5 pouces de large, fond noir\n",
    "\n",
    "    ax = plt.gca()  #personnaliser le fond\n",
    "    ax.set_facecolor('#000000') #fond noir\n",
    "\n",
    "    ax.bar(_video_name, _value, color='#f79817') #valeur et nom video en orange\n",
    "    ax.set_xlabel('Vidéos', color='#ffffff')  # nom de l'axe x en blanc\n",
    "    ax.set_ylabel(f'Nombre de {_metric}', color='#ffffff')  #nom de l'axe y en blanc\n",
    "\n",
    "    if _x_name == None:\n",
    "        ax.set_title(f'{_top_or_bottom} {_num_top} {_metric}', color='#ffffff')  #titre du graphique en blanc\n",
    "    else:\n",
    "        ax.set_title(f'{_top_or_bottom} {_num_top} {_x_name}', color='#ffffff')  #titre du graphique en blanc\n",
    "\n",
    "    ax.tick_params(axis='x', colors='#ffffff')  #contour x en blanc\n",
    "    ax.tick_params(axis='y', colors='#ffffff')  #contour y en blanc\n",
    "    ax.spines['bottom'].set_color('#ffffff') \n",
    "    ax.spines['top'].set_color('#ffffff')\n",
    "    ax.spines['left'].set_color('#ffffff')\n",
    "    ax.spines['right'].set_color('#ffffff')\n",
    "\n",
    "    plt.xticks(rotation=90, ha='right') #affichage video sur graphique\n",
    "    plt.tight_layout() #ameliorer rendu visuel\n",
    "    plt.show() #afficher graphique\n",
    "\n",
    "    tab = []\n",
    "    for i, (video, metrics) in enumerate(zip(_video_name, _value), start=1):\n",
    "        if _metric == 'times':\n",
    "            print(f\"{i}: {metrics} secondes - title: {video}\")\n",
    "        else:\n",
    "            print(f\"{i}: {metrics} {_metric} - title: {video}\")\n",
    "\n",
    "        if _x_name == None:\n",
    "            if _metric == 'Times':\n",
    "                info = {\"rank\": i, \"title\": video, \"metric\": _metric, f\"Secondes_value\": metrics}\n",
    "            else:\n",
    "                info = {\"rank\": i, \"title\": video, \"metric\": _metric, f\"{_metric}_value\": metrics}\n",
    "        else :\n",
    "            if _metric == 'Times':\n",
    "                info = {\"rank\": i, \"title\": video, \"metric\": _metric, f\"Secondes_{_x_name}_value\": metrics}\n",
    "            else:\n",
    "                info = {\"rank\": i, \"title\": video, \"metric\": _metric, f\"{_metric}_{_x_name}_value\": metrics}\n",
    "        tab.append(info)\n",
    "\n",
    "    if _top_or_bottom == 'top':\n",
    "        if not os.path.exists('JSON_top'):\n",
    "            os.makedirs('JSON_top')\n",
    "        if _x_name == None:\n",
    "            JSON_top = f'JSON_top/JSON_top_{_num_top}_{_metric}.json'\n",
    "        else:\n",
    "            JSON_top = f'JSON_top/JSON_top_{_num_top}_{_metric}_{_x_name}.json'\n",
    "        with open(JSON_top, 'w', encoding='utf-8') as f:\n",
    "            json.dump(tab, f, ensure_ascii=False, indent=4)\n",
    "        print(f\"chemin vers fichier JSON : {JSON_top}\")\n",
    "\n",
    "    elif _top_or_bottom == 'bottom':\n",
    "        if not os.path.exists('JSON_bottom'):\n",
    "            os.makedirs('JSON_bottom')\n",
    "        if _x_name == None:\n",
    "            JSON_bottom = f'JSON_bottom/JSON_bottom_{_num_top}_{_metric}.json'\n",
    "        else:\n",
    "            JSON_bottom = f'JSON_bottom/JSON_bottom_{_num_top}_{_metric}_{_x_name}.json'\n",
    "        with open(JSON_bottom, 'w', encoding='utf-8') as f:\n",
    "            json.dump(tab, f, ensure_ascii=False, indent=4)\n",
    "        print(f\"chemin vers fichier JSON : {JSON_bottom}\")"
   ]
  },
  {
   "cell_type": "markdown",
   "id": "b878808c",
   "metadata": {},
   "source": [
    "## Gestion de top\n",
    "Entrez \"top views/likes/dislikes/times/categories/tags number/pornstars/categories (si number entrez /pornstars/categories) entrez name_pornstar or name_categories\" et le top apparaitra!"
   ]
  },
  {
   "cell_type": "code",
   "execution_count": 64,
   "id": "0bb867c3",
   "metadata": {},
   "outputs": [],
   "source": [
    "def get_top(data, metric, num, filter_col=None, filter_val=None):\n",
    "    if filter_col and filter_val:\n",
    "        data = data[data[filter_col].str.contains(filter_val, case=False, na=False)]\n",
    "    # metric = 'categories', 'tags', other..; num = nombre d'element à extraire filter_col = pornstars/categories filter_val = nom_entré\n",
    "    if metric == 'categories':\n",
    "        total_categories = data['categories'].str.split(separator).explode().str.strip().nunique()\n",
    "        if num > total_categories:\n",
    "            print(f\"Le nombre demandé dépasse le nombre de catégories disponibles. Affichage des {total_categories} meilleures catégories à la place.\")\n",
    "            num = total_categories\n",
    "        top_categories = data['categories'].str.split(separator).explode().str.strip().value_counts().nlargest(num)\n",
    "        graph_top_bottom(top_categories.index, top_categories.values, 'Catégories', filter_val, num, 'top')\n",
    "    elif metric == 'tags':\n",
    "        total_tags = data['tags'].str.split(separator).explode().str.strip().nunique()\n",
    "        if num > total_tags:\n",
    "            print(f\"Le nombre demandé dépasse le nombre de tags disponibles. Affichage des {total_tags} meilleurs tags à la place.\")\n",
    "            num = total_tags\n",
    "        top_tags = data['tags'].str.split(separator).explode().str.strip().value_counts().nlargest(num)\n",
    "        graph_top_bottom(top_tags.index, top_tags.values, 'Tags', filter_val, num, 'top')\n",
    "    else: #les autres categories n'ont qu'une seule valeur\n",
    "        total_items = len(data)\n",
    "        if num > total_items:\n",
    "            print(f\"Le nombre demandé dépasse le nombre d'éléments disponibles. Affichage des {total_items} meilleurs éléments à la place.\")\n",
    "            num = total_items\n",
    "        top_items = data.nlargest(num, metric)[['title', metric]]\n",
    "        graph_top_bottom(top_items['title'], top_items[metric], filter_val, metric.capitalize(), num, 'top')"
   ]
  },
  {
   "cell_type": "markdown",
   "id": "bd83c337",
   "metadata": {},
   "source": [
    "## Gestion de bottom (le top inversé)\n",
    "Entrez \"bottom views/likes/dislikes/times/categories/tags puis number_of_top/pornstars/categories (si number entrez /pornstars/categories) puis entrez name_pornstar or name_categories\" et le top des PIRES apparaitra!"
   ]
  },
  {
   "cell_type": "code",
   "execution_count": 65,
   "id": "77fd40b8",
   "metadata": {},
   "outputs": [],
   "source": [
    "def get_bottom(data, metric, num, filter_col=None, filter_val=None):\n",
    "    if filter_col and filter_val:\n",
    "        data = data[data[filter_col].str.contains(filter_val, case=False, na=False)]\n",
    "    # metric = 'categories', 'tags', other..; num = nombre d'element à extraire; filter_col = pornstars/categories; filter_val = nom_entré\n",
    "    if metric == 'categories':\n",
    "        total_categories = data['categories'].str.split(separator).explode().str.strip().nunique()\n",
    "        if num > total_categories:\n",
    "            print(f\"Le nombre demandé dépasse le nombre de catégories disponibles. Affichage des {total_categories} moins bonnes catégories à la place.\")\n",
    "            num = total_categories\n",
    "        bottom_categories = data['categories'].str.split(separator).explode().str.strip().value_counts().nsmallest(num)\n",
    "        graph_top_bottom(bottom_categories.index, bottom_categories.values, 'Catégories', filter_val, num, 'bottom')\n",
    "    elif metric == 'tags':\n",
    "        total_tags = data['tags'].str.split(separator).explode().str.strip().nunique()\n",
    "        if num > total_tags:\n",
    "            print(f\"Le nombre demandé dépasse le nombre de tags disponibles. Affichage des {total_tags} moins bons tags à la place.\")\n",
    "            num = total_tags\n",
    "        bottom_tags = data['tags'].str.split(separator).explode().str.strip().value_counts().nsmallest(num)\n",
    "        graph_top_bottom(bottom_tags.index, bottom_tags.values, 'Tags', filter_val, num, 'bottom')\n",
    "    else:\n",
    "        total_items = len(data)\n",
    "        if num > total_items:\n",
    "            print(f\"Le nombre demandé dépasse le nombre d'éléments disponibles. Affichage des {total_items} moins bons éléments à la place.\")\n",
    "            num = total_items\n",
    "        bottom_items = data.nsmallest(num, metric)[['title', metric]]\n",
    "        graph_top_bottom(bottom_items['title'], bottom_items[metric], filter_val, metric.capitalize(), num, 'bottom')"
   ]
  },
  {
   "cell_type": "markdown",
   "id": "668c4b9d",
   "metadata": {},
   "source": [
    "## Calculer une moyenne\n",
    "Entrez \"average views/likes/dislikes/times puis pornstars/categories puis name_pornstars or name_categories\" et vous aurez la moyenne!"
   ]
  },
  {
   "cell_type": "code",
   "execution_count": 66,
   "id": "e108f3a8",
   "metadata": {},
   "outputs": [],
   "source": [
    "def get_average(data, metric, filter_col=None, filter_val=None):\n",
    "    if filter_col and filter_val:\n",
    "        if filter_col in data.select_dtypes(include=['object']).columns:\n",
    "            data = data[data[filter_col].str.contains(filter_val, case=False, na=False)]\n",
    "        else:\n",
    "            print(f\"Impossible d'appliquer un filtre sur la colonne '{filter_col}' car elle n'est pas de type chaîne.\")\n",
    "            return\n",
    "    # metric = 'categories', 'tags', other..; filter_col = pornstars/categories; filter_val = nom_entré\n",
    "    average_metric = data[metric].mean() #calcul moyenne\n",
    "    if metric == 'times':\n",
    "        average_metric_converted = convert_times(average_metric)\n",
    "        print(f'La moyenne de {metric.capitalize()} pour {filter_val} est : {average_metric_converted}')\n",
    "    else:\n",
    "        print(f'La moyenne de {metric.capitalize()} pour {filter_val} est : {average_metric}')"
   ]
  },
  {
   "cell_type": "markdown",
   "id": "6cc5f0f1",
   "metadata": {},
   "source": [
    "## Lien d'une video\n",
    "Entrez \"src name_title\" et vous aurez la source de la vidéo qui apparaitra!"
   ]
  },
  {
   "cell_type": "code",
   "execution_count": 67,
   "id": "82efc3de",
   "metadata": {},
   "outputs": [],
   "source": [
    "def get_src(data, video_name):\n",
    "    row = data[data['title'].str.contains(video_name, case=False, na=False)]\n",
    "    if not row.empty:\n",
    "        print(f\"{video_name}: {row.iloc[0]['src']}\")\n",
    "        return True\n",
    "    else:\n",
    "        print(f\"La vidéo '{video_name}' n'existe pas.\")\n",
    "        return False"
   ]
  },
  {
   "cell_type": "markdown",
   "metadata": {},
   "source": [
    "## Obtenir la globalité (en nombre) d'une categorie, d'un tag ou d'une actrice\n",
    "Entrez \"count categories/pornstars puis name_categories/name_pornstars\""
   ]
  },
  {
   "cell_type": "code",
   "execution_count": 68,
   "id": "84319600",
   "metadata": {},
   "outputs": [],
   "source": [
    "def count_items(data, item_type, item_name):\n",
    "    if item_type == 'categories':\n",
    "        count = data[data['categories'].str.contains(item_name, case=False, na=False)].shape[0]\n",
    "        print(f\"Le nombre de vidéos avec la catégorie '{item_name}' est : {count}\")\n",
    "    elif item_type == 'tags':\n",
    "        count = data[data['tags'].str.contains(item_name, case=False, na=False)].shape[0]\n",
    "        print(f\"Le nombre de vidéos avec le tag '{item_name}' est : {count}\")\n",
    "    elif item_type == 'pornstars':\n",
    "        count = data[data['pornstars'].str.contains(item_name, case=False, na=False)].shape[0]\n",
    "        print(f\"Le nombre de vidéos avec la pornstar '{item_name}' est : {count}\")\n",
    "    else:\n",
    "        print(f\"Type d'élément '{item_type}' invalide pour le comptage.\")"
   ]
  },
  {
   "cell_type": "markdown",
   "id": "a9691295",
   "metadata": {},
   "source": [
    "## Obtenir toutes les informations d'une video (actrice, année, lien, likes , etc.)\n",
    "Entrez \"infos name_video\" et vous aurez toutes les infos, 'enjoy' comme on dit!"
   ]
  },
  {
   "cell_type": "code",
   "execution_count": 69,
   "id": "cce7b323",
   "metadata": {},
   "outputs": [],
   "source": [
    "def get_infos(data, video_name):\n",
    "    row = data[data['title'].str.contains(video_name, case=False, na=False)]\n",
    "    if not row.empty:\n",
    "        print(f\"Informations pour '{video_name}':\")\n",
    "        row_data = row.iloc[0].copy()\n",
    "        row_data['times'] = convert_times(row_data['times'])\n",
    "        print(row_data)\n",
    "        return True\n",
    "    else:\n",
    "        print(f\"La vidéo '{video_name}' n'existe pas.\")\n",
    "        return False"
   ]
  },
  {
   "cell_type": "markdown",
   "id": "4192d180",
   "metadata": {},
   "source": [
    "## Classement des pornstars\n",
    "Entrez \"pornstars likes/dislikes/views/categories/tags/times puis number_of_pornstars (si categories/tags name_categories)\""
   ]
  },
  {
   "cell_type": "code",
   "execution_count": 70,
   "id": "f35b67d9",
   "metadata": {},
   "outputs": [],
   "source": [
    "def process_chunk(chunk, metric, filter_val=None):\n",
    "    if filter_val and metric in ['tags', 'categories']:\n",
    "        chunk = chunk[chunk[metric].str.contains(filter_val, case=False, na=False)]\n",
    "\n",
    "    chunk = chunk.dropna(subset=['pornstars', metric])\n",
    "    chunk_expanded = chunk.assign(pornstars=chunk['pornstars'].str.split(';')).explode('pornstars')\n",
    "    chunk_expanded['pornstars'] = chunk_expanded['pornstars'].str.strip()\n",
    "\n",
    "    if metric in ['tags', 'categories']:\n",
    "        chunk_expanded = chunk_expanded.explode(metric)\n",
    "        chunk_expanded[metric] = chunk_expanded[metric].str.strip()\n",
    "        grouped_chunk = chunk_expanded.groupby('pornstars')[metric].count()\n",
    "    else:\n",
    "        grouped_chunk = chunk_expanded.groupby('pornstars')[metric].sum()\n",
    "\n",
    "    return grouped_chunk\n",
    "\n",
    "def pornstars_stats(data, metric, num_results, filter_val=None):\n",
    "    result = pd.Series(dtype='float64')\n",
    "    total_rows = len(data)\n",
    "    chunksize = 500000\n",
    "    n_chunks = (total_rows // chunksize) + 1 if total_rows % chunksize != 0 else total_rows // chunksize\n",
    "\n",
    "    num_results = int(num_results)\n",
    "    \n",
    "    for i in range(n_chunks):\n",
    "        chunk = data.iloc[i*chunksize:(i+1)*chunksize]\n",
    "        chunk_result = process_chunk(chunk, metric, filter_val)\n",
    "        result = result.add(chunk_result, fill_value=0)\n",
    "\n",
    "    result = result.sort_values(ascending=False)\n",
    "\n",
    "    display_result = result.head(num_results)\n",
    "    plt.figure(figsize=(10, max(5, len(display_result) / 2)), facecolor='black')\n",
    "    ax = plt.gca()\n",
    "    ax.set_facecolor('black')\n",
    "\n",
    "    max_val = display_result.max()\n",
    "\n",
    "    ax.barh(display_result.index[::-1], display_result.values[::-1], color='#f79817')  # Inverser l'ordre des valeurs\n",
    "    ax.set_xlim(0, max_val)\n",
    "\n",
    "    if metric == 'categories' or metric == 'tags':\n",
    "        ax.set_xlabel(f'Nombre de {metric} {filter_val}', color='white')\n",
    "    else:\n",
    "        ax.set_xlabel(f'Nombre de {metric}', color='white')\n",
    "\n",
    "    ax.set_ylabel('Pornstars', color='white')\n",
    "\n",
    "    if metric == 'categories' or metric == 'tags':\n",
    "        ax.set_title(f'Statistiques des Pornstars par {metric} {filter_val}', color='white')\n",
    "    else:\n",
    "        ax.set_title(f'Statistiques des Pornstars par {metric.capitalize()}', color='white')\n",
    "\n",
    "    ax.tick_params(axis='x', colors='white')\n",
    "    ax.tick_params(axis='y', colors='white')\n",
    "    ax.spines['bottom'].set_color('white')\n",
    "    ax.spines['top'].set_color('white')\n",
    "    ax.spines['left'].set_color('white')\n",
    "    ax.spines['right'].set_color('white')\n",
    "\n",
    "    plt.tight_layout()\n",
    "    plt.show()\n",
    "\n",
    "    tab_pornstars = []\n",
    "    for i, (acteur, nb_metric) in enumerate(zip(display_result.index, display_result.values), start=1):\n",
    "        if metric in ['categories', 'tags']:\n",
    "            print(f\"{i}: {nb_metric} {metric} {filter_val} - pornstars: {acteur}\")\n",
    "            info = {\"rank\": i, \"value\": nb_metric, \"metric\": metric, \"metric_categories\": filter_val, \"pornstars\": acteur}\n",
    "            tab_pornstars.append(info)\n",
    "        else:\n",
    "            print(f\"{i}: {nb_metric} {metric} - pornstars: {acteur}\")\n",
    "            info = {\"rank\": i, \"value\": nb_metric, \"metric\": metric, \"pornstars\": acteur}\n",
    "            tab_pornstars.append(info)\n",
    "\n",
    "    if metric in ['categories', 'tags']:\n",
    "        JSON_pornstars = f'JSON_pornstars/JSON_pornstars_{filter_val}_{metric}_top_{num_results}.json'\n",
    "        if not os.path.exists('JSON_pornstars'):\n",
    "            os.makedirs('JSON_pornstars')\n",
    "        with open(JSON_pornstars, 'w', encoding='utf-8') as f:\n",
    "            json.dump(tab_pornstars, f, ensure_ascii=False, indent=5)\n",
    "    else:\n",
    "        JSON_pornstars = f'JSON_pornstars/JSON_pornstars_{metric}_top_{num_results}.json'\n",
    "        if not os.path.exists('JSON_pornstars'):\n",
    "            os.makedirs('JSON_pornstars')\n",
    "        with open(JSON_pornstars, 'w', encoding='utf-8') as f:\n",
    "            json.dump(tab_pornstars, f, ensure_ascii=False, indent=4)\n",
    "    \n",
    "    print(f\"chemin vers fichier JSON : {JSON_pornstars}\")"
   ]
  },
  {
   "cell_type": "markdown",
   "id": "2b12c2d7",
   "metadata": {},
   "source": [
    "## Gestion de l'evolution\n",
    "Permet de conaitre l'evolution d'une categorie ou des videos sur des années/mois/semaines. "
   ]
  },
  {
   "cell_type": "code",
   "execution_count": 71,
   "id": "e72c4b58",
   "metadata": {},
   "outputs": [],
   "source": [
    "def plot_evolution(data, period, start_date, end_date=None, metric=None, top_n=None):\n",
    "    current_date = pd.Timestamp.now()\n",
    "\n",
    "    if not isinstance(start_date, pd.Timestamp):\n",
    "        if start_date.isdigit() or start_date == \"all\":\n",
    "            num_periods = int(start_date) if start_date.isdigit() else None\n",
    "            if num_periods:\n",
    "                if period == 'year':\n",
    "                    start_date = current_date - pd.DateOffset(years=num_periods)\n",
    "                elif period == 'month':\n",
    "                    start_date = current_date - pd.DateOffset(months=num_periods)\n",
    "                elif period == 'week':\n",
    "                    start_date = current_date - pd.DateOffset(weeks=num_periods)\n",
    "            end_date = current_date\n",
    "        else:\n",
    "            try:\n",
    "                start_date = pd.to_datetime(start_date, format='%d/%m/%Y')\n",
    "            except ValueError:\n",
    "                start_date = pd.to_datetime(start_date, format='%Y')\n",
    "            \n",
    "            if end_date and end_date != \"all\" and not end_date.isdigit():\n",
    "                try:\n",
    "                    end_date = pd.to_datetime(end_date, format='%d/%m/%Y')\n",
    "                except ValueError:\n",
    "                    end_date = pd.to_datetime(end_date, format='%Y')\n",
    "                end_date = end_date.replace(month=12, day=31)\n",
    "            else:\n",
    "                end_date = current_date\n",
    "\n",
    "    if metric in ['categories', 'tags', 'pornstars']:\n",
    "        data_expanded = data.dropna(subset=[metric]).copy()\n",
    "        data_expanded[metric] = data_expanded[metric].str.split(separator).explode().str.strip().reset_index(drop=True)\n",
    "        data_expanded['year'] = pd.to_datetime(data_expanded['date']).dt.year\n",
    "\n",
    "        filtered_data = data_expanded[(pd.to_datetime(data_expanded['date']) >= start_date) & (pd.to_datetime(data_expanded['date']) <= end_date)]\n",
    "        grouped_metric_data = filtered_data.groupby(['year', metric]).size().unstack(fill_value=0)\n",
    "\n",
    "        if top_n:\n",
    "            top_metrics = grouped_metric_data.sum().nlargest(int(top_n)).index\n",
    "            grouped_metric_data = grouped_metric_data[top_metrics]\n",
    "\n",
    "\n",
    "        fig, ax = plt.subplots(figsize=(12, 8), facecolor='#000000')\n",
    "        ax.set_facecolor('#000000')\n",
    "        width = 0.2  # Width of the bars\n",
    "        positions = list(range(len(grouped_metric_data.index)))\n",
    "\n",
    "        colors = ['#f79817', '#87CEEB', '#FF6347', '#32CD32', '#FFD700', '#1E90FF', '#DA70D6']\n",
    "\n",
    "        for i, (metric_name, color) in enumerate(zip(grouped_metric_data.columns, colors)):\n",
    "            ax.bar(\n",
    "                [p + width * i for p in positions],\n",
    "                grouped_metric_data[metric_name],\n",
    "                width=width,\n",
    "                label=metric_name,\n",
    "                color=color\n",
    "            )\n",
    "\n",
    "        ax.set_xlabel('Année', color='#ffffff')\n",
    "        ax.set_ylabel('Nombre de vidéos', color='#ffffff')\n",
    "        ax.set_title(f'Évolution des {metric} les plus populaires par année', color='#ffffff')\n",
    "        ax.set_xticks([p + width * (len(grouped_metric_data.columns) / 2) for p in positions])\n",
    "        ax.set_xticklabels(grouped_metric_data.index.astype(int))\n",
    "        ax.tick_params(axis='x', colors='#ffffff')\n",
    "        ax.tick_params(axis='y', colors='#ffffff')\n",
    "        ax.spines['bottom'].set_color('#ffffff')\n",
    "        ax.spines['top'].set_color('#ffffff')\n",
    "        ax.spines['left'].set_color('#ffffff')\n",
    "        ax.spines['right'].set_color('#ffffff')\n",
    "        plt.xticks(rotation=45)\n",
    "\n",
    "        ax.legend(title=metric, bbox_to_anchor=(1.05, 1), loc='upper left')\n",
    "        plt.tight_layout()\n",
    "        plt.show()\n",
    "\n",
    "        tab = []\n",
    "        for year, metrics in grouped_metric_data.iterrows():\n",
    "            for metric_name, value in metrics.items():\n",
    "                info = {\n",
    "                    \"year\": year,\n",
    "                    \"metric\": metric,\n",
    "                    \"metric_name\": metric_name,\n",
    "                    \"value\": value\n",
    "                }\n",
    "                tab.append(info)\n",
    "\n",
    "        folder = 'JSON_evolution'\n",
    "        if not os.path.exists(folder):\n",
    "            os.makedirs(folder)\n",
    "        JSON_file = f'{folder}/evolution_{metric}_top_{top_n}_years.json'\n",
    "        with open(JSON_file, 'w', encoding='utf-8') as f:\n",
    "            json.dump(tab, f, ensure_ascii=False, indent=4)\n",
    "        print(f\"chemin vers fichier JSON : {JSON_file}\")\n",
    "\n",
    "    else:\n",
    "        if period == 'year':\n",
    "            data['year'] = pd.to_datetime(data['date']).dt.year\n",
    "            filtered_data = data[(pd.to_datetime(data['date']) >= start_date) & (pd.to_datetime(data['date']) <= end_date)]\n",
    "            grouped_data = filtered_data.groupby('year').size().reindex(range(start_date.year, end_date.year + 1), fill_value=0).reset_index(name='count')\n",
    "            fig, ax = plt.subplots(figsize=(10, 5), facecolor='#000000')\n",
    "            ax.set_facecolor('#000000')\n",
    "            ax.plot(grouped_data['year'], grouped_data['count'], marker='o', color='#f79817')\n",
    "        elif period == 'month':\n",
    "            data['year_month'] = pd.to_datetime(data['date']).dt.to_period('M')\n",
    "            filtered_data = data[(pd.to_datetime(data['date']) >= start_date) & (pd.to_datetime(data['date']) <= end_date)]\n",
    "            grouped_data = filtered_data.groupby('year_month').size().reset_index(name='count')\n",
    "            date_range = pd.period_range(start=start_date.to_period('M'), end=end_date.to_period('M'), freq='M')\n",
    "            grouped_data = grouped_data.set_index('year_month').reindex(date_range, fill_value=0).reset_index()\n",
    "            grouped_data['year_month'] = grouped_data['index'].astype(str)\n",
    "            grouped_data.drop(columns='index', inplace=True)\n",
    "            fig, ax = plt.subplots(figsize=(10, 5), facecolor='#000000')\n",
    "            ax.set_facecolor('#000000')\n",
    "            ax.plot(grouped_data['year_month'], grouped_data['count'], marker='o', color='#f79817')\n",
    "        elif period == 'week':\n",
    "            data['year_week'] = pd.to_datetime(data['date']).dt.to_period('W')\n",
    "            filtered_data = data[(pd.to_datetime(data['date']) >= start_date) & (pd.to_datetime(data['date']) <= end_date)]\n",
    "            grouped_data = filtered_data.groupby('year_week').size().reset_index(name='count')\n",
    "            date_range = pd.period_range(start=start_date.to_period('W'), end=end_date.to_period('W'), freq='W')\n",
    "            grouped_data = grouped_data.set_index('year_week').reindex(date_range, fill_value=0).reset_index()\n",
    "            grouped_data['year_week'] = grouped_data['index'].astype(str)\n",
    "            grouped_data.drop(columns='index', inplace=True)\n",
    "            fig, ax = plt.subplots(figsize=(10, 5), facecolor='#000000')\n",
    "            ax.set_facecolor('#000000')\n",
    "            ax.plot(grouped_data['year_week'], grouped_data['count'], marker='o', color='#f79817')\n",
    "\n",
    "        ax.set_xlabel('Année' if period == 'year' else 'Période', color='#ffffff')\n",
    "        ax.set_ylabel('Nombre de vidéos publiées', color='#ffffff')\n",
    "        ax.set_title(f'Évolution du nombre de vidéos publiées par {period}', color='#ffffff')\n",
    "        ax.tick_params(axis='x', colors='#ffffff')\n",
    "        ax.tick_params(axis='y', colors='#ffffff')\n",
    "        ax.spines['bottom'].set_color('#ffffff')\n",
    "        ax.spines['top'].set_color('#ffffff')\n",
    "        ax.spines['left'].set_color('#ffffff')\n",
    "        ax.spines['right'].set_color('#ffffff')\n",
    "        plt.xticks(rotation=45)\n",
    "        plt.tight_layout()\n",
    "        plt.show()\n",
    "\n",
    "        tab = grouped_data.to_dict(orient='records')\n",
    "        folder = 'JSON_evolution'\n",
    "        if not os.path.exists(folder):\n",
    "            os.makedirs(folder)\n",
    "        JSON_file = f'{folder}/evolution_{period}_videos_periods.json'\n",
    "        with open(JSON_file, 'w', encoding='utf-8') as f:\n",
    "            json.dump(tab, f, ensure_ascii=False, indent=4)\n",
    "        print(f\"chemin vers fichier JSON : {JSON_file}\")\n"
   ]
  },
  {
   "cell_type": "markdown",
   "id": "fc3ca555",
   "metadata": {},
   "source": [
    "## Analyse de la commande Input\n",
    "Analyse la commande et appel la fonction pouvant gérer cette methode."
   ]
  },
  {
   "cell_type": "code",
   "execution_count": 72,
   "id": "b2219f03",
   "metadata": {},
   "outputs": [],
   "source": [
    "def process_input(input_str):\n",
    "    parts = input_str.split()\n",
    "    \n",
    "    if len(parts) == 0:\n",
    "        print(\"Aucune entrée fournie. Veuillez entrer une requête valide.\")\n",
    "        return\n",
    "\n",
    "    category, metric, value, filter_col, filter_val = None, None, None, None, None\n",
    "    \n",
    "    if parts[0] == 'count' and len(parts) > 2:\n",
    "        category = parts[0]\n",
    "        metric = parts[1]\n",
    "        filter_val = ' '.join(parts[2:])\n",
    "        filter_col = metric\n",
    "        value = None\n",
    "    elif len(parts) >= 2:\n",
    "        category = parts[0]\n",
    "        metric = parts[1]\n",
    "        if len(parts) == 2:\n",
    "            value = 1  # Default value when not provided\n",
    "        elif len(parts) == 3:\n",
    "            if parts[2].isdigit():\n",
    "                value = int(parts[2])\n",
    "            else:\n",
    "                filter_col = metric\n",
    "                filter_val = ' '.join(parts[2:])\n",
    "                value = 1  # Default value when not provided\n",
    "        elif len(parts) >= 4:\n",
    "            if parts[2].isdigit():\n",
    "                value = int(parts[2])\n",
    "                filter_col = parts[3]\n",
    "                filter_val = ' '.join(parts[4:])\n",
    "            else:\n",
    "                filter_col = parts[2]\n",
    "                filter_val = ' '.join(parts[3:])\n",
    "                value = 1  # Default value when not provided\n",
    "    else:\n",
    "        print(\"Format d'entrée invalide. Utilisez 'category metric [value] [filter_col filter_val]'\")\n",
    "        return\n",
    "\n",
    "    # Vérifier les paramètres\n",
    "    if category not in ['top', 'bottom', 'average', 'count', 'src', 'infos', 'pornstars', 'evolution']:\n",
    "        print(\"Catégorie invalide. Utilisez 'top', 'bottom', 'average', 'count', 'src', 'infos', 'pornstars' ou 'evolution'\")\n",
    "        return\n",
    "\n",
    "    if category != 'src' and category != 'infos' and category != 'evolution' and category != 'pornstars' and metric not in ['views', 'likes', 'times', 'dislikes', 'categories', 'tags', 'pornstars']:\n",
    "        print(\"Métrique invalide. Utilisez 'views', 'likes', 'times', 'dislikes', 'categories', 'tags' ou 'pornstars'\")\n",
    "        return\n",
    "\n",
    "    # Appeler la fonction appropriée en fonction des paramètres\n",
    "    if category == 'top':\n",
    "        total_items = data[metric].str.split(separator).explode().str.strip().nunique() if metric in ['categories', 'tags'] else len(data)\n",
    "        if int(value) > total_items:\n",
    "            print(f\"Le nombre demandé dépasse le nombre de {metric} disponibles. Affichage des {total_items} meilleurs {metric} à la place.\")\n",
    "            value = total_items\n",
    "        get_top(data, metric, int(value), filter_col, filter_val)\n",
    "    elif category == 'bottom':\n",
    "        total_items = data[metric].str.split(separator).explode().str.strip().nunique() if metric in ['categories', 'tags'] else len(data)\n",
    "        if int(value) > total_items:\n",
    "            print(f\"Le nombre demandé dépasse le nombre de {metric} disponibles. Affichage des {total_items} moins bons {metric} à la place.\")\n",
    "            value = total_items\n",
    "        get_bottom(data, metric, int(value), filter_col, filter_val)\n",
    "    elif category == 'average':\n",
    "        get_average(data, metric, filter_col, filter_val)\n",
    "    elif category == 'src':\n",
    "        attempts = 0\n",
    "        success = False\n",
    "        while attempts < 3 and not success:\n",
    "            success = get_src(data, ' '.join(parts[1:]))\n",
    "            if not success:\n",
    "                attempts += 1\n",
    "                if attempts < 3:\n",
    "                    print(f\"Essai {attempts} sur 3 échoué. Veuillez réessayer.\")\n",
    "                    metric = input(\"Entrez le nom de la vidéo: \").strip()\n",
    "        if not success:\n",
    "            print(\"Nombre maximal d'essais atteint. Le programme s'arrête.\")\n",
    "    elif category == 'infos':\n",
    "        get_infos(data, ' '.join(parts[1:]))\n",
    "    elif category == 'count':\n",
    "        if metric in ['categories', 'tags', 'pornstars']:\n",
    "            count_items(data, metric, filter_val)\n",
    "        else:\n",
    "            print(\"Pour 'count', veuillez fournir un type d'élément valide ('categories', 'tags' ou 'pornstars')\")\n",
    "    elif category == 'evolution':\n",
    "        period = metric\n",
    "        num_periods = parts[2]\n",
    "\n",
    "        if num_periods.lower() == \"all\":\n",
    "            start_date = data['date'].min()  # Utiliser la date la plus ancienne dans les données\n",
    "            end_date = pd.Timestamp.now()\n",
    "            if len(parts) > 3:\n",
    "                metric = parts[3]\n",
    "                if len(parts) > 4:\n",
    "                    top_n = parts[4]\n",
    "                    plot_evolution(data, period, start_date, end_date, metric, top_n)\n",
    "                else:\n",
    "                    plot_evolution(data, period, start_date, end_date, metric)\n",
    "            else:\n",
    "                plot_evolution(data, period, start_date, end_date)\n",
    "        else:\n",
    "            try:\n",
    "                # Vérification du format des dates\n",
    "                start_date = pd.to_datetime(num_periods, errors='coerce')\n",
    "                end_date = pd.to_datetime(parts[3], errors='coerce') if len(parts) > 3 else None\n",
    "\n",
    "                if pd.notnull(start_date) and (end_date is None or pd.notnull(end_date)):\n",
    "                    if end_date:\n",
    "                        if len(parts) > 4:\n",
    "                            metric = parts[4]\n",
    "                            if len(parts) > 5:\n",
    "                                top_n = parts[5]\n",
    "                                plot_evolution(data, period, start_date, end_date, metric, top_n)\n",
    "                            else:\n",
    "                                plot_evolution(data, period, start_date, end_date, metric)\n",
    "                        else:\n",
    "                            plot_evolution(data, period, start_date, end_date)\n",
    "                    else:\n",
    "                        plot_evolution(data, period, start_date)\n",
    "                else:\n",
    "                    # Si les dates ne sont pas valides, num_periods est considéré comme une période numérique\n",
    "                    num_periods = int(num_periods)\n",
    "                    if len(parts) > 3:\n",
    "                        metric = parts[3]\n",
    "                        if len(parts) > 4:\n",
    "                            top_n = parts[4]\n",
    "                            plot_evolution(data, period, num_periods, metric, top_n)\n",
    "                        else:\n",
    "                            plot_evolution(data, period, num_periods, metric)\n",
    "                    else:\n",
    "                        plot_evolution(data, period, num_periods)\n",
    "            except ValueError:\n",
    "                print(\"Erreur dans le format des dates. Utilisez 'YYYY' pour les années ou 'dd/mm/YYYY' pour les dates complètes.\")\n",
    "    elif category == 'pornstars':\n",
    "        if len(parts) >= 3:\n",
    "            category = parts[0]\n",
    "            metric = parts[1]\n",
    "            num_results = int(parts[2])\n",
    "        if len(parts) > 3:\n",
    "            filter_val = ' '.join(parts[3:])\n",
    "        if filter_val:\n",
    "            pornstars_stats(data, metric, num_results, filter_val)\n",
    "        else:\n",
    "            pornstars_stats(data, metric, num_results)\n",
    "    else:\n",
    "        print(\"Catégorie ou action inconnue\")"
   ]
  },
  {
   "cell_type": "code",
   "execution_count": 73,
   "id": "f2a759be",
   "metadata": {},
   "outputs": [
    {
     "data": {
      "image/png": "[encoded data removed]",
      "text/plain": [
       "<Figure size 1000x500 with 1 Axes>"
      ]
     },
     "metadata": {},
     "output_type": "display_data"
    },
    {
     "name": "stdout",
     "output_type": "stream",
     "text": [
      "chemin vers fichier JSON : JSON_evolution/evolution_year_videos_periods.json\n"
     ]
    }
   ],
   "source": [
    "# Appel de la fonction pour traiter l'input et afficher les résultats\n",
    "process_input(input(\"Enter your query (e.g., 'top views 5'): \"))\n"
   ]
  },
  {
   "cell_type": "code",
   "execution_count": 74,
   "id": "11247a91",
   "metadata": {},
   "outputs": [
    {
     "data": {
      "image/png": "[encoded data removed]",
      "text/plain": [
       "<Figure size 1000x500 with 1 Axes>"
      ]
     },
     "metadata": {},
     "output_type": "display_data"
    },
    {
     "name": "stdout",
     "output_type": "stream",
     "text": [
      "chemin vers fichier JSON : JSON_evolution/evolution_month_videos_periods.json\n"
     ]
    }
   ],
   "source": [
    "# Appel de la fonction pour traiter l'input et afficher les résultats\n",
    "process_input(input(\"Enter your query (e.g., 'top views 5'): \"))\n"
   ]
  },
  {
   "cell_type": "code",
   "execution_count": 75,
   "id": "61c93edf",
   "metadata": {},
   "outputs": [
    {
     "name": "stdout",
     "output_type": "stream",
     "text": [
      "Aucune entrée fournie. Veuillez entrer une requête valide.\n"
     ]
    }
   ],
   "source": [
    "# Appel de la fonction pour traiter l'input et afficher les résultats\n",
    "process_input(input(\"Enter your query (e.g., 'top views 5'): \"))\n"
   ]
  },
  {
   "cell_type": "code",
   "execution_count": 76,
   "id": "9ba297f5",
   "metadata": {},
   "outputs": [
    {
     "name": "stdout",
     "output_type": "stream",
     "text": [
      "Aucune entrée fournie. Veuillez entrer une requête valide.\n"
     ]
    }
   ],
   "source": [
    "# Appel de la fonction pour traiter l'input et afficher les résultats\n",
    "process_input(input(\"Enter your query (e.g., 'top views 5'): \"))\n"
   ]
  },
  {
   "cell_type": "code",
   "execution_count": 77,
   "id": "96b43857",
   "metadata": {},
   "outputs": [
    {
     "name": "stdout",
     "output_type": "stream",
     "text": [
      "Aucune entrée fournie. Veuillez entrer une requête valide.\n"
     ]
    }
   ],
   "source": [
    "# Appel de la fonction pour traiter l'input et afficher les résultats\n",
    "process_input(input(\"Enter your query (e.g., 'top views 5'): \"))\n"
   ]
  },
  {
   "cell_type": "code",
   "execution_count": 78,
   "id": "f4d9134e",
   "metadata": {},
   "outputs": [
    {
     "name": "stdout",
     "output_type": "stream",
     "text": [
      "Aucune entrée fournie. Veuillez entrer une requête valide.\n"
     ]
    }
   ],
   "source": [
    "# Appel de la fonction pour traiter l'input et afficher les résultats\n",
    "process_input(input(\"Enter your query (e.g., 'top views 5'): \"))\n"
   ]
  },
  {
   "cell_type": "code",
   "execution_count": 79,
   "id": "12df0417",
   "metadata": {},
   "outputs": [
    {
     "name": "stdout",
     "output_type": "stream",
     "text": [
      "Aucune entrée fournie. Veuillez entrer une requête valide.\n"
     ]
    }
   ],
   "source": [
    "# Appel de la fonction pour traiter l'input et afficher les résultats\n",
    "process_input(input(\"Enter your query (e.g., 'top views 5'): \"))\n"
   ]
  },
  {
   "cell_type": "code",
   "execution_count": 80,
   "id": "61a851dc",
   "metadata": {},
   "outputs": [
    {
     "name": "stdout",
     "output_type": "stream",
     "text": [
      "Aucune entrée fournie. Veuillez entrer une requête valide.\n"
     ]
    }
   ],
   "source": [
    "# Appel de la fonction pour traiter l'input et afficher les résultats\n",
    "process_input(input(\"Enter your query (e.g., 'top views 5'): \"))\n"
   ]
  }
 ],
 "metadata": {
  "kernelspec": {
   "display_name": "Python 3",
   "language": "python",
   "name": "python3"
  },
  "language_info": {
   "codemirror_mode": {
    "name": "ipython",
    "version": 3
   },
   "file_extension": ".py",
   "mimetype": "text/x-python",
   "name": "python",
   "nbconvert_exporter": "python",
   "pygments_lexer": "ipython3",
   "version": "3.10.12"
  }
 },
 "nbformat": 4,
 "nbformat_minor": 5
}
